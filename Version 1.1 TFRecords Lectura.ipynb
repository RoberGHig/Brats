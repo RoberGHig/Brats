{
 "cells": [
  {
   "cell_type": "code",
   "execution_count": 2,
   "metadata": {},
   "outputs": [],
   "source": [
    "# *_* coding:utf-8 *_*\n",
    "import sys\n",
    "import os\n",
    "import tensorflow as tf \n",
    "import numpy as np\n",
    "slim = tf.contrib.slim\n",
    "\n",
    "#train_data_path = '/data/CVPR_Release/v2/dataset/training'"
   ]
  },
  {
   "cell_type": "code",
   "execution_count": 3,
   "metadata": {},
   "outputs": [],
   "source": [
    "#def get_batch(dataset_dir,num_readers=2,batch_size=5,net=None,FLAGS=None,\n",
    " #               file_pattern = '*.tfrecord',is_training = True,shuffe = False):"
   ]
  },
  {
   "cell_type": "code",
   "execution_count": 3,
   "metadata": {},
   "outputs": [
    {
     "ename": "IndentationError",
     "evalue": "unexpected indent (<ipython-input-3-551ce50c9853>, line 3)",
     "output_type": "error",
     "traceback": [
      "\u001b[1;36m  File \u001b[1;32m\"<ipython-input-3-551ce50c9853>\"\u001b[1;36m, line \u001b[1;32m3\u001b[0m\n\u001b[1;33m    filename = 'C:\\\\Users\\\\rober\\\\Practicas\\\\training\\\\training_v2.tfrecords'\u001b[0m\n\u001b[1;37m    ^\u001b[0m\n\u001b[1;31mIndentationError\u001b[0m\u001b[1;31m:\u001b[0m unexpected indent\n"
     ]
    }
   ],
   "source": [
    "#def get_batch():\n",
    "    #Definimos la ruta de los tfrecords\n",
    "    filename = 'C:\\\\Users\\\\rober\\\\Practicas\\\\training\\\\training_v2.tfrecords'\n",
    "    #Función encargada de añadir a una cola FIFO la lista de ficheros, además el parametro epochs\n",
    "    #nos proporciona el numero de tensores que obtendremos en cada iteracción\n",
    "    filename_queue = tf.train.string_input_producer([filename], num_epochs=50)\n",
    "    #Definimos un lector\n",
    "    reader = tf.TFRecordReader()\n",
    "    serialized_example = reader.read(filename_queue)\n",
    "    #Diccionario con las características necesarias.Decodificamos el \"record\" leido\n",
    "    #por el lector\n",
    "    features = tf.parse_single_example(serialized_example,\n",
    "                features={\n",
    "                    'image/encoded': tf.FixedLenFeature([], tf.string, default_value=''),\n",
    "                    'label/encoded': tf.FixedLenFeature([], tf.string, default_value=''),\n",
    "                })  # Nos devuelve la imagen y la etiqueta\n",
    "    #Convierte la etiqueta a su formato original \n",
    "    with tf.name_scope('cmc/label'):\n",
    "        label = tf.decode_raw(features['label/encoded'], tf.float32)\n",
    "        label = tf.transpose(tf.reshape(label, [3,1,240,240]), (0,2,3,1))\n",
    "    #Convierte la imagen a su formato original \n",
    "    with tf.name_scope('cmc/image'):\n",
    "        image = tf.decode_raw(features['image/encoded'], tf.float32)\n",
    "        image = tf.transpose(tf.reshape(image, [3,4,240,240]), (0,2,3,1))\n",
    "    #image = tf.reshape(image, [32, 100, 3])\n",
    "    #Realiza el casteo a float32 e int32\n",
    "    image = tf.cast(image, tf.float32)\n",
    "    label = tf.cast(label, tf.int32)\n",
    "    print(\"image\", image.get_shape(), label.get_shape())\n",
    "    \n",
    "    ########REALIZAMOS EL PREPROCESADO AQUÍ################\n",
    "    \"\"\"\n",
    "    if (np.random.choice([0, 1]) == 1):\n",
    "        image = tf.image.flip_left_right(image)\n",
    "        label = tf.image.flip_left_right(label)\n",
    "    \"\"\"\n",
    "        \n",
    "    do_a_crop_flip = tf.random_uniform([], seed=None)\n",
    "    do_a_crop_flip = tf.greater(do_a_crop_flip, 0.5)\n",
    "    #tf.cond es evaluada en tiempo de ejecución mientras que if-els\n",
    "    #es evaluada en el tiempo de contruccion del grafo vamos previamente a la ejecución\n",
    "        #condicion,if = lambda: tf.reverse_v2,else = lambda: image/label\n",
    "    image = tf.cond(do_a_crop_flip, lambda: tf.reverse_v2(image, [2]),lambda: image)\n",
    "    label = tf.cond(do_a_crop_flip, lambda: tf.reverse_v2(label, [2]),lambda: label)\n",
    "    #########FIN DEL PREPROCESADO##########################\n",
    "    \n",
    "    ## Creamos los batches por unos tensores barajeados aleatoriamente\n",
    "    batch_size = 5\n",
    "    sh_images, sh_labels = tf.train.shuffle_batch(\n",
    "            [image, label], batch_size=batch_size, num_threads=1,\n",
    "            capacity=100 * batch_size,\n",
    "            min_after_dequeue=batch_size)\n",
    "\n",
    "    #return sh_images, sh_labels"
   ]
  },
  {
   "cell_type": "code",
   "execution_count": 16,
   "metadata": {},
   "outputs": [
    {
     "name": "stdout",
     "output_type": "stream",
     "text": [
      "image (4, 240, 240) (1, 240, 240)\n",
      "images (152, 4, 240, 240) (152, 1, 240, 240)\n",
      "sh_images (4, 240, 240, 152) (1, 240, 240, 152)\n"
     ]
    }
   ],
   "source": [
    "#def get_batch():\n",
    "#Definimos la ruta de los tfrecords\n",
    "filename = 'C:\\\\Users\\\\rober\\\\Practicas\\\\training\\\\training_v2.tfrecords'\n",
    "with tf.Session() as sess:\n",
    "\n",
    "    feature={\n",
    "        'image/encoded': tf.FixedLenFeature([], tf.string,default_value=''),\n",
    "        'label/encoded': tf.FixedLenFeature([], tf.string,default_value='')\n",
    "    }\n",
    "    #Función encargada de añadir a una cola FIFO la lista de ficheros, además el parametro epochs\n",
    "    #nos proporciona el numero de tensores que obtendremos en cada iteracción\n",
    "    filename_queue = tf.train.string_input_producer([filename], num_epochs=50)\n",
    "    #Definimos un lector\n",
    "    reader = tf.TFRecordReader()\n",
    "    _, serialized_example = reader.read(filename_queue)\n",
    "    features = tf.parse_single_example(serialized_example, features=feature)\n",
    "    #Diccionario con las características necesarias.Decodificamos el \"record\" leido\n",
    "    #por el lector\n",
    "    #features = tf.parse_single_example(serialized_example,)  \n",
    "    # Nos devuelve la imagen y la etiqueta\n",
    "    #Convierte la etiqueta a su formato original \n",
    "    with tf.name_scope('label'):\n",
    "        label = tf.decode_raw(features['label/encoded'], tf.float32)\n",
    "        label = tf.transpose(tf.reshape(label, [1,240,240]), (0,2,1))\n",
    "    #Convierte la imagen a su formato original \n",
    "    with tf.name_scope('image'):\n",
    "        image = tf.decode_raw(features['image/encoded'], tf.float32)\n",
    "        image = tf.transpose(tf.reshape(image, [4,240,240]), (0,2,1))\n",
    "        #image = tf.reshape(image, [32, 100, 3])\n",
    "    #Realiza el casteo a float32 e int32\n",
    "    image = tf.cast(image, tf.float32)\n",
    "    label = tf.cast(label, tf.int32)\n",
    "    print(\"image\", image.get_shape(), label.get_shape())\n",
    "\n",
    "    ########REALIZAMOS EL PREPROCESADO AQUÍ################      \n",
    "    do_a_crop_flip = tf.random_uniform([], seed=None)\n",
    "    do_a_crop_flip = tf.greater(do_a_crop_flip, 0.5)\n",
    "    #tf.cond es evaluada en tiempo de ejecución mientras que if-els\n",
    "    #es evaluada en el tiempo de contruccion del grafo vamos previamente a la ejecución\n",
    "    #condicion,if = lambda: tf.reverse_v2,else = lambda: image/label\n",
    "    image = tf.cond(do_a_crop_flip, lambda: tf.reverse_v2(image, [2]),lambda: image)\n",
    "    label = tf.cond(do_a_crop_flip, lambda: tf.reverse_v2(label, [2]),lambda: label)\n",
    "    #########FIN DEL PREPROCESADO##########################\n",
    "\n",
    "    ## Creamos los batches por unos tensores barajeados aleatoriamente\n",
    "    batch_size = 152\n",
    "    sh_images, sh_labels = tf.train.shuffle_batch(\n",
    "            [image, label], batch_size=batch_size, num_threads=1,\n",
    "            capacity=100 * batch_size,\n",
    "            min_after_dequeue=batch_size)\n",
    "    print(\"images\", sh_images.get_shape(), sh_labels.get_shape())\n",
    "    sh_images = tf.transpose(tf.reshape(sh_images, [batch_size,4,240,240]), (1,2,3,0))\n",
    "    sh_labels = tf.transpose(tf.reshape(sh_labels, [batch_size,1,240,240]), (1,2,3,0))\n",
    "    print(\"sh_images\",sh_images.get_shape(),sh_labels.get_shape())\n",
    "    #print(\"images\", sh_images.get_shape(), sh_labels.get_shape())\n",
    "    #return sh_images, sh_labels"
   ]
  },
  {
   "cell_type": "code",
   "execution_count": null,
   "metadata": {},
   "outputs": [],
   "source": []
  }
 ],
 "metadata": {
  "kernelspec": {
   "display_name": "Python 3",
   "language": "python",
   "name": "python3"
  },
  "language_info": {
   "codemirror_mode": {
    "name": "ipython",
    "version": 3
   },
   "file_extension": ".py",
   "mimetype": "text/x-python",
   "name": "python",
   "nbconvert_exporter": "python",
   "pygments_lexer": "ipython3",
   "version": "3.6.6"
  }
 },
 "nbformat": 4,
 "nbformat_minor": 2
}
